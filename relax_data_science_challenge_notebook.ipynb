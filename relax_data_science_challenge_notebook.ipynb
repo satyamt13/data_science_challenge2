{
 "cells": [
  {
   "cell_type": "code",
   "execution_count": 277,
   "metadata": {
    "collapsed": true
   },
   "outputs": [],
   "source": [
    "#Importing necessary modules\n",
    "import pandas as pd\n",
    "import numpy as np\n",
    "from datetime import date\n",
    "from datetime import datetime\n",
    "import matplotlib.pyplot as plt\n",
    "import seaborn as sns "
   ]
  },
  {
   "cell_type": "markdown",
   "metadata": {},
   "source": [
    "### Builidng the target variable "
   ]
  },
  {
   "cell_type": "code",
   "execution_count": 288,
   "metadata": {},
   "outputs": [
    {
     "data": {
      "text/html": [
       "<div>\n",
       "<style>\n",
       "    .dataframe thead tr:only-child th {\n",
       "        text-align: right;\n",
       "    }\n",
       "\n",
       "    .dataframe thead th {\n",
       "        text-align: left;\n",
       "    }\n",
       "\n",
       "    .dataframe tbody tr th {\n",
       "        vertical-align: top;\n",
       "    }\n",
       "</style>\n",
       "<table border=\"1\" class=\"dataframe\">\n",
       "  <thead>\n",
       "    <tr style=\"text-align: right;\">\n",
       "      <th></th>\n",
       "      <th>user_id</th>\n",
       "      <th>retained</th>\n",
       "    </tr>\n",
       "  </thead>\n",
       "  <tbody>\n",
       "    <tr>\n",
       "      <th>0</th>\n",
       "      <td>1</td>\n",
       "      <td>0</td>\n",
       "    </tr>\n",
       "    <tr>\n",
       "      <th>1</th>\n",
       "      <td>2</td>\n",
       "      <td>1</td>\n",
       "    </tr>\n",
       "    <tr>\n",
       "      <th>2</th>\n",
       "      <td>3</td>\n",
       "      <td>0</td>\n",
       "    </tr>\n",
       "    <tr>\n",
       "      <th>3</th>\n",
       "      <td>4</td>\n",
       "      <td>0</td>\n",
       "    </tr>\n",
       "    <tr>\n",
       "      <th>4</th>\n",
       "      <td>5</td>\n",
       "      <td>0</td>\n",
       "    </tr>\n",
       "  </tbody>\n",
       "</table>\n",
       "</div>"
      ],
      "text/plain": [
       "   user_id  retained\n",
       "0        1         0\n",
       "1        2         1\n",
       "2        3         0\n",
       "3        4         0\n",
       "4        5         0"
      ]
     },
     "execution_count": 288,
     "metadata": {},
     "output_type": "execute_result"
    }
   ],
   "source": [
    "#Reading in the csv files that contains information about time of login\n",
    "user_engagement = pd.read_csv('takehome_user_engagement.csv')\n",
    "#Converting time stamp to datetime isocalendar object of the format (year,week number,day)\n",
    "def conv(s):\n",
    "    dt =  datetime.strptime(s,'%Y-%m-%d %H:%M:%S')\n",
    "    return datetime.isocalendar(dt)[0:2]\n",
    "user_engagement.loc[:,'time_stamp'] = user_engagement.time_stamp.apply(conv)\n",
    "#Grouping each user by number of logins in each week they were active\n",
    "first_group = user_engagement.groupby(['user_id','time_stamp'])\n",
    "first_group = first_group['visited'].count()\n",
    "df_weeks = pd.DataFrame(first_group)\n",
    "#Extracting the week the user logged in the most number of times of all the weeks they've been active\n",
    "user_target = df_weeks.max(level=0)\n",
    "user_target = user_target.reset_index()\n",
    "#Building the target variable based on wether the maximum number of logins during the week are less than 3\n",
    "def build_target(n):\n",
    "    if n >= 3:\n",
    "        return 1\n",
    "    else:\n",
    "        return 0\n",
    "user_target.loc[:,'visited'] = user_target.visited.apply(build_target)\n",
    "user_target.columns = ['user_id','retained']\n",
    "#Displaying the constructed target variable column 'retained' and respective user_id column\n",
    "user_target.head(5)"
   ]
  },
  {
   "cell_type": "markdown",
   "metadata": {},
   "source": [
    "### Extracting the total number of weeks a user has been active to be used as a feature column"
   ]
  },
  {
   "cell_type": "code",
   "execution_count": 206,
   "metadata": {},
   "outputs": [
    {
     "data": {
      "text/html": [
       "<div>\n",
       "<style>\n",
       "    .dataframe thead tr:only-child th {\n",
       "        text-align: right;\n",
       "    }\n",
       "\n",
       "    .dataframe thead th {\n",
       "        text-align: left;\n",
       "    }\n",
       "\n",
       "    .dataframe tbody tr th {\n",
       "        vertical-align: top;\n",
       "    }\n",
       "</style>\n",
       "<table border=\"1\" class=\"dataframe\">\n",
       "  <thead>\n",
       "    <tr style=\"text-align: right;\">\n",
       "      <th></th>\n",
       "      <th>user_id</th>\n",
       "      <th>weeks_active</th>\n",
       "    </tr>\n",
       "  </thead>\n",
       "  <tbody>\n",
       "    <tr>\n",
       "      <th>0</th>\n",
       "      <td>1</td>\n",
       "      <td>1</td>\n",
       "    </tr>\n",
       "    <tr>\n",
       "      <th>1</th>\n",
       "      <td>2</td>\n",
       "      <td>11</td>\n",
       "    </tr>\n",
       "    <tr>\n",
       "      <th>2</th>\n",
       "      <td>3</td>\n",
       "      <td>1</td>\n",
       "    </tr>\n",
       "    <tr>\n",
       "      <th>3</th>\n",
       "      <td>4</td>\n",
       "      <td>1</td>\n",
       "    </tr>\n",
       "    <tr>\n",
       "      <th>4</th>\n",
       "      <td>5</td>\n",
       "      <td>1</td>\n",
       "    </tr>\n",
       "  </tbody>\n",
       "</table>\n",
       "</div>"
      ],
      "text/plain": [
       "   user_id  weeks_active\n",
       "0        1             1\n",
       "1        2            11\n",
       "2        3             1\n",
       "3        4             1\n",
       "4        5             1"
      ]
     },
     "execution_count": 206,
     "metadata": {},
     "output_type": "execute_result"
    }
   ],
   "source": [
    "df_weeks_count = df_weeks.reset_index()\n",
    "df_weeks_count = df_weeks_count.drop(['visited'],axis=1)\n",
    "df_weeks_count = df_weeks_count.groupby('user_id')\n",
    "df_weeks_count = df_weeks_count['time_stamp'].count()\n",
    "df_weeks_count = pd.DataFrame(df_weeks_count)\n",
    "df_weeks_count = df_weeks_count.reset_index()\n",
    "df_weeks_count.columns = ['user_id','weeks_active']\n",
    "df_weeks_count.head()"
   ]
  },
  {
   "cell_type": "markdown",
   "metadata": {},
   "source": [
    "### Reading in and feature engineering on the predictor variables "
   ]
  },
  {
   "cell_type": "code",
   "execution_count": 235,
   "metadata": {},
   "outputs": [
    {
     "data": {
      "text/html": [
       "<div>\n",
       "<style>\n",
       "    .dataframe thead tr:only-child th {\n",
       "        text-align: right;\n",
       "    }\n",
       "\n",
       "    .dataframe thead th {\n",
       "        text-align: left;\n",
       "    }\n",
       "\n",
       "    .dataframe tbody tr th {\n",
       "        vertical-align: top;\n",
       "    }\n",
       "</style>\n",
       "<table border=\"1\" class=\"dataframe\">\n",
       "  <thead>\n",
       "    <tr style=\"text-align: right;\">\n",
       "      <th></th>\n",
       "      <th>object_id</th>\n",
       "      <th>creation_time</th>\n",
       "      <th>name</th>\n",
       "      <th>email</th>\n",
       "      <th>creation_source</th>\n",
       "      <th>last_session_creation_time</th>\n",
       "      <th>opted_in_to_mailing_list</th>\n",
       "      <th>enabled_for_marketing_drip</th>\n",
       "      <th>org_id</th>\n",
       "      <th>invited_by_user_id</th>\n",
       "    </tr>\n",
       "  </thead>\n",
       "  <tbody>\n",
       "    <tr>\n",
       "      <th>0</th>\n",
       "      <td>1</td>\n",
       "      <td>2014-04-22 03:53:30</td>\n",
       "      <td>Clausen August</td>\n",
       "      <td>AugustCClausen@yahoo.com</td>\n",
       "      <td>GUEST_INVITE</td>\n",
       "      <td>1.398139e+09</td>\n",
       "      <td>1</td>\n",
       "      <td>0</td>\n",
       "      <td>11</td>\n",
       "      <td>10803.0</td>\n",
       "    </tr>\n",
       "    <tr>\n",
       "      <th>1</th>\n",
       "      <td>2</td>\n",
       "      <td>2013-11-15 03:45:04</td>\n",
       "      <td>Poole Matthew</td>\n",
       "      <td>MatthewPoole@gustr.com</td>\n",
       "      <td>ORG_INVITE</td>\n",
       "      <td>1.396238e+09</td>\n",
       "      <td>0</td>\n",
       "      <td>0</td>\n",
       "      <td>1</td>\n",
       "      <td>316.0</td>\n",
       "    </tr>\n",
       "    <tr>\n",
       "      <th>2</th>\n",
       "      <td>3</td>\n",
       "      <td>2013-03-19 23:14:52</td>\n",
       "      <td>Bottrill Mitchell</td>\n",
       "      <td>MitchellBottrill@gustr.com</td>\n",
       "      <td>ORG_INVITE</td>\n",
       "      <td>1.363735e+09</td>\n",
       "      <td>0</td>\n",
       "      <td>0</td>\n",
       "      <td>94</td>\n",
       "      <td>1525.0</td>\n",
       "    </tr>\n",
       "    <tr>\n",
       "      <th>3</th>\n",
       "      <td>4</td>\n",
       "      <td>2013-05-21 08:09:28</td>\n",
       "      <td>Clausen Nicklas</td>\n",
       "      <td>NicklasSClausen@yahoo.com</td>\n",
       "      <td>GUEST_INVITE</td>\n",
       "      <td>1.369210e+09</td>\n",
       "      <td>0</td>\n",
       "      <td>0</td>\n",
       "      <td>1</td>\n",
       "      <td>5151.0</td>\n",
       "    </tr>\n",
       "    <tr>\n",
       "      <th>4</th>\n",
       "      <td>5</td>\n",
       "      <td>2013-01-17 10:14:20</td>\n",
       "      <td>Raw Grace</td>\n",
       "      <td>GraceRaw@yahoo.com</td>\n",
       "      <td>GUEST_INVITE</td>\n",
       "      <td>1.358850e+09</td>\n",
       "      <td>0</td>\n",
       "      <td>0</td>\n",
       "      <td>193</td>\n",
       "      <td>5240.0</td>\n",
       "    </tr>\n",
       "  </tbody>\n",
       "</table>\n",
       "</div>"
      ],
      "text/plain": [
       "   object_id        creation_time               name  \\\n",
       "0          1  2014-04-22 03:53:30     Clausen August   \n",
       "1          2  2013-11-15 03:45:04      Poole Matthew   \n",
       "2          3  2013-03-19 23:14:52  Bottrill Mitchell   \n",
       "3          4  2013-05-21 08:09:28    Clausen Nicklas   \n",
       "4          5  2013-01-17 10:14:20          Raw Grace   \n",
       "\n",
       "                        email creation_source  last_session_creation_time  \\\n",
       "0    AugustCClausen@yahoo.com    GUEST_INVITE                1.398139e+09   \n",
       "1      MatthewPoole@gustr.com      ORG_INVITE                1.396238e+09   \n",
       "2  MitchellBottrill@gustr.com      ORG_INVITE                1.363735e+09   \n",
       "3   NicklasSClausen@yahoo.com    GUEST_INVITE                1.369210e+09   \n",
       "4          GraceRaw@yahoo.com    GUEST_INVITE                1.358850e+09   \n",
       "\n",
       "   opted_in_to_mailing_list  enabled_for_marketing_drip  org_id  \\\n",
       "0                         1                           0      11   \n",
       "1                         0                           0       1   \n",
       "2                         0                           0      94   \n",
       "3                         0                           0       1   \n",
       "4                         0                           0     193   \n",
       "\n",
       "   invited_by_user_id  \n",
       "0             10803.0  \n",
       "1               316.0  \n",
       "2              1525.0  \n",
       "3              5151.0  \n",
       "4              5240.0  "
      ]
     },
     "execution_count": 235,
     "metadata": {},
     "output_type": "execute_result"
    }
   ],
   "source": [
    "users_info = pd.read_csv('takehome_users.csv',encoding='latin-1')\n",
    "users_info.head()"
   ]
  },
  {
   "cell_type": "markdown",
   "metadata": {},
   "source": [
    "#### Feature engineered columns\n",
    " - total_logins - Total number of times each user has logged in to the application\n",
    " - weeks_active - Total number of weeks a user has been active on the platform by logging in \n",
    " - account_at_last_login - Wether the user already had an account during their last login or they signed up after their last login"
   ]
  },
  {
   "cell_type": "code",
   "execution_count": 236,
   "metadata": {},
   "outputs": [
    {
     "data": {
      "text/html": [
       "<div>\n",
       "<style>\n",
       "    .dataframe thead tr:only-child th {\n",
       "        text-align: right;\n",
       "    }\n",
       "\n",
       "    .dataframe thead th {\n",
       "        text-align: left;\n",
       "    }\n",
       "\n",
       "    .dataframe tbody tr th {\n",
       "        vertical-align: top;\n",
       "    }\n",
       "</style>\n",
       "<table border=\"1\" class=\"dataframe\">\n",
       "  <thead>\n",
       "    <tr style=\"text-align: right;\">\n",
       "      <th></th>\n",
       "      <th>object_id</th>\n",
       "      <th>creation_source</th>\n",
       "      <th>opted_in_to_mailing_list</th>\n",
       "      <th>enabled_for_marketing_drip</th>\n",
       "      <th>retained</th>\n",
       "      <th>total_logins</th>\n",
       "      <th>weeks_active</th>\n",
       "      <th>account_at_last_login</th>\n",
       "    </tr>\n",
       "  </thead>\n",
       "  <tbody>\n",
       "    <tr>\n",
       "      <th>0</th>\n",
       "      <td>1</td>\n",
       "      <td>GUEST_INVITE</td>\n",
       "      <td>1</td>\n",
       "      <td>0</td>\n",
       "      <td>0</td>\n",
       "      <td>1</td>\n",
       "      <td>1</td>\n",
       "      <td>created after</td>\n",
       "    </tr>\n",
       "    <tr>\n",
       "      <th>1</th>\n",
       "      <td>2</td>\n",
       "      <td>ORG_INVITE</td>\n",
       "      <td>0</td>\n",
       "      <td>0</td>\n",
       "      <td>1</td>\n",
       "      <td>14</td>\n",
       "      <td>11</td>\n",
       "      <td>existing user</td>\n",
       "    </tr>\n",
       "    <tr>\n",
       "      <th>2</th>\n",
       "      <td>3</td>\n",
       "      <td>ORG_INVITE</td>\n",
       "      <td>0</td>\n",
       "      <td>0</td>\n",
       "      <td>0</td>\n",
       "      <td>1</td>\n",
       "      <td>1</td>\n",
       "      <td>created after</td>\n",
       "    </tr>\n",
       "    <tr>\n",
       "      <th>3</th>\n",
       "      <td>4</td>\n",
       "      <td>GUEST_INVITE</td>\n",
       "      <td>0</td>\n",
       "      <td>0</td>\n",
       "      <td>0</td>\n",
       "      <td>1</td>\n",
       "      <td>1</td>\n",
       "      <td>existing user</td>\n",
       "    </tr>\n",
       "    <tr>\n",
       "      <th>4</th>\n",
       "      <td>5</td>\n",
       "      <td>GUEST_INVITE</td>\n",
       "      <td>0</td>\n",
       "      <td>0</td>\n",
       "      <td>0</td>\n",
       "      <td>1</td>\n",
       "      <td>1</td>\n",
       "      <td>existing user</td>\n",
       "    </tr>\n",
       "  </tbody>\n",
       "</table>\n",
       "</div>"
      ],
      "text/plain": [
       "   object_id creation_source  opted_in_to_mailing_list  \\\n",
       "0          1    GUEST_INVITE                         1   \n",
       "1          2      ORG_INVITE                         0   \n",
       "2          3      ORG_INVITE                         0   \n",
       "3          4    GUEST_INVITE                         0   \n",
       "4          5    GUEST_INVITE                         0   \n",
       "\n",
       "   enabled_for_marketing_drip  retained  total_logins  weeks_active  \\\n",
       "0                           0         0             1             1   \n",
       "1                           0         1            14            11   \n",
       "2                           0         0             1             1   \n",
       "3                           0         0             1             1   \n",
       "4                           0         0             1             1   \n",
       "\n",
       "  account_at_last_login  \n",
       "0         created after  \n",
       "1         existing user  \n",
       "2         created after  \n",
       "3         existing user  \n",
       "4         existing user  "
      ]
     },
     "execution_count": 236,
     "metadata": {},
     "output_type": "execute_result"
    }
   ],
   "source": [
    "#Merging the target variable and features on their respective user id's\n",
    "df = pd.merge(users_info,user_target,how='inner',left_on='object_id',right_on='user_id')\n",
    "df = df.drop(['invited_by_user_id'],axis=1)\n",
    "#Building the total logins column for each user\n",
    "total_logs = pd.DataFrame(user_engagement['user_id'].value_counts())\n",
    "total_logs = total_logs.reset_index()\n",
    "total_logs.columns = ['user_id','total_logins']\n",
    "#joining total logins with the main dataframe containing all features\n",
    "df = pd.merge(df,total_logs,how='inner',left_on='object_id',right_on='user_id')\n",
    "df = pd.merge(df,df_weeks_count,how='inner',left_on='object_id',right_on='user_id')\n",
    "df = df.drop(['user_id','user_id_x','user_id_y','org_id'],axis=1)\n",
    "#Converting the unix time stamp column 'last_session_creation_time' to a datetime column\n",
    "def from_unix(n):\n",
    "    dt = datetime.fromtimestamp(n).strftime('%Y-%m-%d %H:%M:%S')\n",
    "    return datetime.strptime(dt,'%Y-%m-%d %H:%M:%S')\n",
    "df.loc[:,'last_session_creation_time'] = df.last_session_creation_time.apply(from_unix)\n",
    "#Converting the time stamp column 'creation time' to datetime object\n",
    "def from_time_stamp(n):\n",
    "    return datetime.strptime(n,'%Y-%m-%d %H:%M:%S')\n",
    "df.loc[:,'creation_time'] = df.creation_time.apply(from_time_stamp)\n",
    "#Comapring the above built datetime columns to create the 'account_at_last_login' column\n",
    "def account_created(row):\n",
    "    if row['creation_time'] > row['last_session_creation_time']:\n",
    "        return 'created after'\n",
    "    else:\n",
    "        return 'existing user'\n",
    "df['account_at_last_login'] = df.apply(lambda row:account_created(row),axis=1)\n",
    "#Dropping columns that would not contribute value to model accuracy for machine learning\n",
    "df = df.drop(['creation_time','name','email','last_session_creation_time'],axis=1)\n",
    "df.head()"
   ]
  },
  {
   "cell_type": "markdown",
   "metadata": {},
   "source": [
    "#### One Hot Encoding categorical variables"
   ]
  },
  {
   "cell_type": "code",
   "execution_count": 269,
   "metadata": {},
   "outputs": [
    {
     "data": {
      "text/html": [
       "<div>\n",
       "<style>\n",
       "    .dataframe thead tr:only-child th {\n",
       "        text-align: right;\n",
       "    }\n",
       "\n",
       "    .dataframe thead th {\n",
       "        text-align: left;\n",
       "    }\n",
       "\n",
       "    .dataframe tbody tr th {\n",
       "        vertical-align: top;\n",
       "    }\n",
       "</style>\n",
       "<table border=\"1\" class=\"dataframe\">\n",
       "  <thead>\n",
       "    <tr style=\"text-align: right;\">\n",
       "      <th></th>\n",
       "      <th>opted_in_to_mailing_list</th>\n",
       "      <th>enabled_for_marketing_drip</th>\n",
       "      <th>retained</th>\n",
       "      <th>total_logins</th>\n",
       "      <th>weeks_active</th>\n",
       "      <th>creation_source_ORG_INVITE</th>\n",
       "      <th>creation_source_PERSONAL_PROJECTS</th>\n",
       "      <th>creation_source_SIGNUP</th>\n",
       "      <th>creation_source_SIGNUP_GOOGLE_AUTH</th>\n",
       "      <th>account_at_last_login_existing user</th>\n",
       "    </tr>\n",
       "  </thead>\n",
       "  <tbody>\n",
       "    <tr>\n",
       "      <th>0</th>\n",
       "      <td>1</td>\n",
       "      <td>0</td>\n",
       "      <td>0</td>\n",
       "      <td>1</td>\n",
       "      <td>1</td>\n",
       "      <td>0</td>\n",
       "      <td>0</td>\n",
       "      <td>0</td>\n",
       "      <td>0</td>\n",
       "      <td>0</td>\n",
       "    </tr>\n",
       "    <tr>\n",
       "      <th>1</th>\n",
       "      <td>0</td>\n",
       "      <td>0</td>\n",
       "      <td>1</td>\n",
       "      <td>14</td>\n",
       "      <td>11</td>\n",
       "      <td>1</td>\n",
       "      <td>0</td>\n",
       "      <td>0</td>\n",
       "      <td>0</td>\n",
       "      <td>1</td>\n",
       "    </tr>\n",
       "    <tr>\n",
       "      <th>2</th>\n",
       "      <td>0</td>\n",
       "      <td>0</td>\n",
       "      <td>0</td>\n",
       "      <td>1</td>\n",
       "      <td>1</td>\n",
       "      <td>1</td>\n",
       "      <td>0</td>\n",
       "      <td>0</td>\n",
       "      <td>0</td>\n",
       "      <td>0</td>\n",
       "    </tr>\n",
       "    <tr>\n",
       "      <th>3</th>\n",
       "      <td>0</td>\n",
       "      <td>0</td>\n",
       "      <td>0</td>\n",
       "      <td>1</td>\n",
       "      <td>1</td>\n",
       "      <td>0</td>\n",
       "      <td>0</td>\n",
       "      <td>0</td>\n",
       "      <td>0</td>\n",
       "      <td>1</td>\n",
       "    </tr>\n",
       "    <tr>\n",
       "      <th>4</th>\n",
       "      <td>0</td>\n",
       "      <td>0</td>\n",
       "      <td>0</td>\n",
       "      <td>1</td>\n",
       "      <td>1</td>\n",
       "      <td>0</td>\n",
       "      <td>0</td>\n",
       "      <td>0</td>\n",
       "      <td>0</td>\n",
       "      <td>1</td>\n",
       "    </tr>\n",
       "  </tbody>\n",
       "</table>\n",
       "</div>"
      ],
      "text/plain": [
       "   opted_in_to_mailing_list  enabled_for_marketing_drip  retained  \\\n",
       "0                         1                           0         0   \n",
       "1                         0                           0         1   \n",
       "2                         0                           0         0   \n",
       "3                         0                           0         0   \n",
       "4                         0                           0         0   \n",
       "\n",
       "   total_logins  weeks_active  creation_source_ORG_INVITE  \\\n",
       "0             1             1                           0   \n",
       "1            14            11                           1   \n",
       "2             1             1                           1   \n",
       "3             1             1                           0   \n",
       "4             1             1                           0   \n",
       "\n",
       "   creation_source_PERSONAL_PROJECTS  creation_source_SIGNUP  \\\n",
       "0                                  0                       0   \n",
       "1                                  0                       0   \n",
       "2                                  0                       0   \n",
       "3                                  0                       0   \n",
       "4                                  0                       0   \n",
       "\n",
       "   creation_source_SIGNUP_GOOGLE_AUTH  account_at_last_login_existing user  \n",
       "0                                   0                                    0  \n",
       "1                                   0                                    1  \n",
       "2                                   0                                    0  \n",
       "3                                   0                                    1  \n",
       "4                                   0                                    1  "
      ]
     },
     "execution_count": 269,
     "metadata": {},
     "output_type": "execute_result"
    }
   ],
   "source": [
    "df_ml = pd.get_dummies(df,drop_first=True)\n",
    "#Dropping redundant column 'object_id'\n",
    "df_ml = df_ml.drop(['object_id'],axis=1)\n",
    "df_ml.head()"
   ]
  },
  {
   "cell_type": "markdown",
   "metadata": {},
   "source": [
    "### Machine learning and feature importances"
   ]
  },
  {
   "cell_type": "code",
   "execution_count": 270,
   "metadata": {
    "collapsed": true
   },
   "outputs": [],
   "source": [
    "#Importing necessary modules\n",
    "from sklearn.model_selection import train_test_split, GridSearchCV\n",
    "from sklearn.ensemble import RandomForestClassifier\n",
    "from sklearn.tree import DecisionTreeClassifier\n",
    "from sklearn.ensemble import AdaBoostClassifier\n",
    "X = np.array(df_ml.drop(['retained'],axis=1))\n",
    "y = np.array(df_ml['retained'])\n",
    "X_train,X_test,y_train,y_test = train_test_split(X,y,test_size=0.2,random_state=42)\n",
    "from pandas_ml import ConfusionMatrix\n",
    "%matplotlib inline\n",
    "#ML helper function\n",
    "def display_stats(model,name):\n",
    "    print()\n",
    "    print('-*-*-*-*-*-*-*-*-*-*-*-*-*-*-*-*-*-*-*-*-*-*-*-*-*')\n",
    "    print()\n",
    "    print('Accuracy on unseen hold out set:',model.score(X_test,y_test)*100,'%')\n",
    "    print()\n",
    "    y_pred = model.predict(X_test)\n",
    "    y_pred_s = pd.Series(y_pred).replace([0,1],['not_retained','retained'])\n",
    "    y_test_s = pd.Series(y_test).replace([0,1],['not_retained','retained'])\n",
    "    confusion_matrix = ConfusionMatrix(y_test_s,y_pred_s)\n",
    "    confusion_matrix.plot(normalized=True,backend='seaborn')\n",
    "    plt.title('Confusion Matrix For '+str(name))\n",
    "    plt.show()\n",
    "    print(\"Binary confusion matrix:\\n%s\" %confusion_matrix)\n",
    "    print()\n",
    "    print('Positive = retained')\n",
    "    print('Negative = not_retained')\n",
    "    print()\n",
    "    print('True Positive Rate:',confusion_matrix.TPR * 100,'%')\n",
    "    print('False Positive Rate:',confusion_matrix.FPR * 100,'%')\n",
    "    print('True Negative Rate:',confusion_matrix.TNR * 100,'%')\n",
    "    print('False Negative Rate:',confusion_matrix.FNR * 100,'%')"
   ]
  },
  {
   "cell_type": "markdown",
   "metadata": {},
   "source": [
    "### Random Forest Classifier\n",
    "Random forest classifier fits several weak decision trees on the data using bootsrap aggregating and averages out the predictions from all the decision trees to classify an observation\n",
    " - Random forest is a collinearity robust algorithim \n",
    " - Works well on datasets with non-standardized features , with different ranges\n",
    " - Allows us to specify class_weights which greatly helps to give a balanced result in case of imbalanced classes like ours"
   ]
  },
  {
   "cell_type": "code",
   "execution_count": 271,
   "metadata": {},
   "outputs": [
    {
     "name": "stdout",
     "output_type": "stream",
     "text": [
      "{'min_samples_leaf': 1, 'min_samples_split': 5}\n",
      "0.98554831397\n"
     ]
    }
   ],
   "source": [
    "#Tuning 'min_samples_leaf' and 'min_samples_split' using 5 fold cross validation\n",
    "rf = RandomForestClassifier(n_estimators=100,n_jobs=-1,max_features='sqrt',random_state=42,class_weight={0:.1,1:1})\n",
    "param_grid1 = {\"min_samples_split\": np.arange(2, 11),\n",
    "              \"min_samples_leaf\": np.arange(1,10)}\n",
    "rf_cv = GridSearchCV(rf,param_grid1,cv=5,n_jobs=-1)\n",
    "rf_cv.fit(X_train,y_train)\n",
    "print(rf_cv.best_params_)\n",
    "print(rf_cv.best_score_)"
   ]
  },
  {
   "cell_type": "code",
   "execution_count": 266,
   "metadata": {},
   "outputs": [
    {
     "name": "stdout",
     "output_type": "stream",
     "text": [
      "{'max_depth': 14}\n",
      "0.985689997166\n"
     ]
    }
   ],
   "source": [
    "#Tuning 'max_depth' using 5 fold cross validation \n",
    "rf = RandomForestClassifier(n_estimators=100,n_jobs=-1,max_features='sqrt',random_state=42,\n",
    "                            min_samples_split=5,min_samples_leaf=1,class_weight = {0:.1,1:1})\n",
    "param_grid2 ={'max_depth':np.arange(10,28)}\n",
    "rf_cv = GridSearchCV(rf,param_grid2,cv=5,n_jobs=-1)\n",
    "rf_cv.fit(X_train,y_train)\n",
    "print(rf_cv.best_params_)\n",
    "print(rf_cv.best_score_)"
   ]
  },
  {
   "cell_type": "markdown",
   "metadata": {},
   "source": [
    "#### Increasing the number of estimators and fitting on hold out set"
   ]
  },
  {
   "cell_type": "code",
   "execution_count": 273,
   "metadata": {},
   "outputs": [
    {
     "name": "stdout",
     "output_type": "stream",
     "text": [
      "Training Accuracy: 99.2065741003 %\n",
      "\n",
      "-*-*-*-*-*-*-*-*-*-*-*-*-*-*-*-*-*-*-*-*-*-*-*-*-*\n",
      "\n",
      "Accuracy on unseen hold out set: 98.0736543909 %\n",
      "\n"
     ]
    },
    {
     "data": {
      "image/png": "[encoded data removed]",
      "text/plain": [
       "<matplotlib.figure.Figure at 0x133f59ba8>"
      ]
     },
     "metadata": {},
     "output_type": "display_data"
    },
    {
     "name": "stdout",
     "output_type": "stream",
     "text": [
      "Binary confusion matrix:\n",
      "Predicted     not_retained  retained  __all__\n",
      "Actual                                       \n",
      "not_retained          1436        24     1460\n",
      "retained                10       295      305\n",
      "__all__               1446       319     1765\n",
      "\n",
      "Positive = retained\n",
      "Negative = not_retained\n",
      "\n",
      "True Positive Rate: 96.7213114754 %\n",
      "False Positive Rate: 1.64383561644 %\n",
      "True Negative Rate: 98.3561643836 %\n",
      "False Negative Rate: 3.27868852459 %\n"
     ]
    }
   ],
   "source": [
    "rf = RandomForestClassifier(n_estimators=300,n_jobs=-1,max_features='sqrt',random_state=42,\n",
    "                            min_samples_split=5,min_samples_leaf=1,max_depth=14,class_weight={0:.1,1:1})\n",
    "rf.fit(X_train,y_train)\n",
    "print('Training Accuracy:',rf.score(X_train,y_train)*100,'%')\n",
    "display_stats(rf,'Random Forest Classifier')"
   ]
  },
  {
   "cell_type": "markdown",
   "metadata": {},
   "source": [
    "**Observation:** The model is not overfitted and generalized extremely well. On the unseen hold out set had an **overall accuracy of 98.07%.** The **True Positive Rate (correctly indentified a retained user)** and the **True Negative Rate (correctly identified a non retained user)** are **96.72% and 98.35% respectively.** The **False Positive Rate (incorrectly labelled a non-retained user as retained)** and the **False Negative Rate (incorrectly labelled a retained user as non retained) are 1.64% and 3.27% respectively.**"
   ]
  },
  {
   "cell_type": "markdown",
   "metadata": {},
   "source": [
    "#### Feature Importances as identifed by the random forest classifier"
   ]
  },
  {
   "cell_type": "code",
   "execution_count": 286,
   "metadata": {},
   "outputs": [
    {
     "data": {
      "image/png": "[encoded data removed]",
      "text/plain": [
       "<matplotlib.figure.Figure at 0x133cc52e8>"
      ]
     },
     "metadata": {},
     "output_type": "display_data"
    }
   ],
   "source": [
    "#Extracting assigned feature importances as assigned by the random forest classifier and adaboost classifier\n",
    "def calc_fimps(m:'fitted model')->'numpy array':\n",
    "    f_imp = np.append(m.feature_importances_[:4],sum(m.feature_importances_[4:8]))\n",
    "    return np.append(f_imp,m.feature_importances_[8])\n",
    "f_imps = calc_fimps(rf)\n",
    "features = ['opted_into_mailing_list','enabled_for_marketing_drip','total_logins','total_weeks_active',\n",
    "            'creation_source','account_status_at_last_login']\n",
    "f, ax = plt.subplots(figsize=(10,14))\n",
    "plt.subplot(2,1,1)\n",
    "sns.barplot(x=f_imps,y=features,palette=sns.color_palette(\"Blues_r\"))\n",
    "plt.title('Feature Importances')\n",
    "\n",
    "plt.show()"
   ]
  },
  {
   "cell_type": "markdown",
   "metadata": {},
   "source": [
    "**Observation:** The intrinsic dimensionality of the data is 2 dimensional centred around the metric total_logins which is the total number of times each user has been active(logged in) on the platform follwed by the metric 'weeks_active' which is the metric that indenitfies the span of time each user has been using the platform measured in weeks. These are the features identified by the random forest classifier as the strongest predictors of wether a user will be retained or not"
   ]
  },
  {
   "cell_type": "code",
   "execution_count": null,
   "metadata": {
    "collapsed": true
   },
   "outputs": [],
   "source": []
  }
 ],
 "metadata": {
  "kernelspec": {
   "display_name": "Python 3",
   "language": "python",
   "name": "python3"
  },
  "language_info": {
   "codemirror_mode": {
    "name": "ipython",
    "version": 3
   },
   "file_extension": ".py",
   "mimetype": "text/x-python",
   "name": "python",
   "nbconvert_exporter": "python",
   "pygments_lexer": "ipython3",
   "version": "3.6.3"
  }
 },
 "nbformat": 4,
 "nbformat_minor": 2
}
